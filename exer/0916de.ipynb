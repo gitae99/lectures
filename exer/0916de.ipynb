{
 "cells": [
  {
   "cell_type": "code",
   "execution_count": 7,
   "id": "7ef02f24-91a5-4e5b-9b70-4524615a346f",
   "metadata": {},
   "outputs": [
    {
     "name": "stdout",
     "output_type": "stream",
     "text": [
      "<class 'bool'>\n",
      "<class 'str'>\n",
      "<class 'float'>\n"
     ]
    }
   ],
   "source": [
    "\"\"\"\n",
    "boolean variables\n",
    "\"\"\"\n",
    "\n",
    "is_tested=True\n",
    "print(type(is_tested))\n",
    "\n",
    "a=\"3.14\"\n",
    "print(type(a))\n",
    "\n",
    "b=3.14\n",
    "print(type(b))"
   ]
  },
  {
   "cell_type": "code",
   "execution_count": 19,
   "id": "197813be-c4f1-4ff9-8445-52795c742de9",
   "metadata": {},
   "outputs": [
    {
     "name": "stdout",
     "output_type": "stream",
     "text": [
      "손흥민 선수의 등번호는 7번 입니다\n",
      "Heung-Min Son\n",
      "True\n"
     ]
    }
   ],
   "source": [
    "\"\"\"\n",
    "Conditional Statements\n",
    "\"\"\"\n",
    "\n",
    "son_number=\"7\"\n",
    "is_yes=True\n",
    "\n",
    "if son_number==\"10\":\n",
    "    print(\"손흥민 선수의 등번호는 7번 입니다\")\n",
    "    print(\"Harry Kane\")\n",
    "    is_yes=False\n",
    "elif son_number==\"1\":\n",
    "    print(\"손흥민 선수의 등번호는 7번 입니다\")\n",
    "    print(\"Hugo Lloris\")\n",
    "    is_yes=False\n",
    "elif son_number==\"20\":\n",
    "    print(\"손흥민 선수의 등번호는 7번 입니다\")\n",
    "    print(\"Dele Alli\")\n",
    "    is_yes=False\n",
    "elif son_number==\"7\":\n",
    "    print(\"손흥민 선수의 등번호는 7번 입니다\")\n",
    "    print(\"Heung-Min Son\")\n",
    "    is_yes=\"True\"\n",
    "else:\n",
    "    print(\"손흥민 선수의 등번호는 7번 입니다\")\n",
    "    is_yes=\"False\"\n",
    "    \n",
    "print(is_yes)\n",
    "    "
   ]
  },
  {
   "cell_type": "code",
   "execution_count": 22,
   "id": "42534f60-c665-4e2f-88cd-90a452b2d470",
   "metadata": {},
   "outputs": [
    {
     "name": "stdout",
     "output_type": "stream",
     "text": [
      "[Error]\n",
      "continue\n",
      "10\n"
     ]
    }
   ],
   "source": [
    "\"\"\"\n",
    "Exception Handling\n",
    "\"\"\"\n",
    "\n",
    "x=10\n",
    "\n",
    "try:\n",
    "    print(y)\n",
    "    print(x)\n",
    "    \n",
    "except:\n",
    "    print('[Error]')\n",
    "    \n",
    "print(\"continue\")\n",
    "print(x)"
   ]
  }
 ],
 "metadata": {
  "kernelspec": {
   "display_name": "Python 3",
   "language": "python",
   "name": "python3"
  },
  "language_info": {
   "codemirror_mode": {
    "name": "ipython",
    "version": 3
   },
   "file_extension": ".py",
   "mimetype": "text/x-python",
   "name": "python",
   "nbconvert_exporter": "python",
   "pygments_lexer": "ipython3",
   "version": "3.8.8"
  }
 },
 "nbformat": 4,
 "nbformat_minor": 5
}
