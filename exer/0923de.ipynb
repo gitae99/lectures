{
 "cells": [
  {
   "cell_type": "code",
   "execution_count": 15,
   "id": "78a463f4-739a-4d33-b304-87b404acc0a5",
   "metadata": {},
   "outputs": [
    {
     "name": "stdout",
     "output_type": "stream",
     "text": [
      "1\n",
      "2\n",
      "3\n",
      "4\n",
      "5\n"
     ]
    }
   ],
   "source": [
    "nums=[1,2,3,4,5]\n",
    "for num in nums:\n",
    "    print(num)"
   ]
  },
  {
   "cell_type": "code",
   "execution_count": 20,
   "id": "2d276617-a30b-4334-99cc-01bedc8fa4a2",
   "metadata": {},
   "outputs": [
    {
     "name": "stdout",
     "output_type": "stream",
     "text": [
      "0\n",
      "1\n",
      "2\n",
      "3\n",
      "Warning\n",
      "Warning\n",
      "Warning\n",
      "Warning\n"
     ]
    }
   ],
   "source": [
    "for i in range(4):\n",
    "    print(i)\n",
    "    \n",
    "for i in range(4):\n",
    "    print(\"Warning\")"
   ]
  },
  {
   "cell_type": "code",
   "execution_count": 22,
   "id": "857b49a0-ff99-48b3-891f-7ac44aec7f33",
   "metadata": {},
   "outputs": [
    {
     "name": "stdout",
     "output_type": "stream",
     "text": [
      "1\n",
      "2\n",
      "3\n",
      "4\n",
      "5\n"
     ]
    }
   ],
   "source": [
    "for num in nums:\n",
    "    if num<0:\n",
    "        continue\n",
    "    print(num)"
   ]
  },
  {
   "cell_type": "code",
   "execution_count": 80,
   "id": "f37e8689-4266-4c55-9e70-5b0dc8538ff8",
   "metadata": {},
   "outputs": [
    {
     "name": "stdout",
     "output_type": "stream",
     "text": [
      "stage1 is complete.\n",
      "stage2 is complete.\n",
      "stage3 is complete.\n",
      "Game is Over...\n"
     ]
    }
   ],
   "source": [
    "game_plays = ['stage1', 'stage2', 'stage3','gameover', 'stage4', 'stage5']\n",
    "for play in game_plays:\n",
    "    if play == 'gameover':\n",
    "        print(\"Game is Over...\")\n",
    "        break\n",
    "    print(play + \" is complete.\")"
   ]
  },
  {
   "cell_type": "code",
   "execution_count": 26,
   "id": "03bdcdd9-3058-468d-9a16-d25e3d5d3770",
   "metadata": {},
   "outputs": [
    {
     "name": "stdout",
     "output_type": "stream",
     "text": [
      "[1, 2, 3, 4, 5]\n"
     ]
    }
   ],
   "source": [
    "one_to_five=[i+1 for i in range(5)]\n",
    "print(one_to_five)"
   ]
  },
  {
   "cell_type": "code",
   "execution_count": 79,
   "id": "b6b29f29-fcc1-43eb-8cde-dbdca5a37b61",
   "metadata": {},
   "outputs": [
    {
     "name": "stdout",
     "output_type": "stream",
     "text": [
      "축구 못하는 사람\n",
      "['나바스']\n"
     ]
    }
   ],
   "source": [
    "real_madrid_allstar=[['호날두','A+'],['세르히오 라모스','A+'],['페페','B'],['벤제마','C'],\n",
    "                    ['나바스','F']]\n",
    "people=[player[0] for player in real_madrid_allstar if player[1]=='F']\n",
    "print(\"축구 못하는 사람\")\n",
    "print(people)"
   ]
  },
  {
   "cell_type": "code",
   "execution_count": 77,
   "id": "5b03de79-3a84-4798-9389-aee83c5cd90e",
   "metadata": {},
   "outputs": [
    {
     "name": "stdout",
     "output_type": "stream",
     "text": [
      "1 X 1 = 1\n",
      "1 X 2 = 2\n",
      "1 X 3 = 3\n",
      "1 X 4 = 4\n",
      "1 X 5 = 5\n",
      "1 X 6 = 6\n",
      "1 X 7 = 7\n",
      "1 X 8 = 8\n",
      "1 X 9 = 9\n",
      "2 X 1 = 2\n",
      "2 X 2 = 4\n",
      "2 X 3 = 6\n",
      "2 X 4 = 8\n",
      "2 X 5 = 10\n",
      "2 X 6 = 12\n",
      "2 X 7 = 14\n",
      "2 X 8 = 16\n",
      "2 X 9 = 18\n",
      "3 X 1 = 3\n",
      "3 X 2 = 6\n",
      "3 X 3 = 9\n",
      "3 X 4 = 12\n",
      "3 X 5 = 15\n",
      "3 X 6 = 18\n",
      "3 X 7 = 21\n",
      "3 X 8 = 24\n",
      "3 X 9 = 27\n"
     ]
    }
   ],
   "source": [
    "one_to_nine = [i + 1 for i in range(9)]\n",
    "for i in one_to_nine:\n",
    "    if i == 4:\n",
    "        break\n",
    "    for j in one_to_nine:\n",
    "        print(\"%d X %d = %d\" % (i, j, i*j))\n"
   ]
  },
  {
   "cell_type": "code",
   "execution_count": 78,
   "id": "48b1c081-267e-49bf-a7f8-0140165c6e94",
   "metadata": {},
   "outputs": [
    {
     "name": "stdout",
     "output_type": "stream",
     "text": [
      "Do Something\n",
      "Do Something\n",
      "Do Something\n",
      "Do Something\n"
     ]
    }
   ],
   "source": [
    "x = 1\n",
    "y = 1\n",
    "\n",
    "while x < 5:\n",
    "    print(\"Do Something\")\n",
    "    x += 1"
   ]
  }
 ],
 "metadata": {
  "kernelspec": {
   "display_name": "Python 3",
   "language": "python",
   "name": "python3"
  },
  "language_info": {
   "codemirror_mode": {
    "name": "ipython",
    "version": 3
   },
   "file_extension": ".py",
   "mimetype": "text/x-python",
   "name": "python",
   "nbconvert_exporter": "python",
   "pygments_lexer": "ipython3",
   "version": "3.8.8"
  }
 },
 "nbformat": 4,
 "nbformat_minor": 5
}
