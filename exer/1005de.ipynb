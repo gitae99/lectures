{
 "cells": [
  {
   "cell_type": "code",
   "execution_count": 1,
   "id": "35eb4dfd-6534-47fb-8a15-087b58e852a2",
   "metadata": {},
   "outputs": [
    {
     "name": "stdout",
     "output_type": "stream",
     "text": [
      "[0 1 2]\n"
     ]
    }
   ],
   "source": [
    "\"\"\"\n",
    "NumPy Array attribution\n",
    "\"\"\"\n",
    "\n",
    "import numpy as np\n",
    "\n",
    "print(np.arange(3))"
   ]
  },
  {
   "cell_type": "code",
   "execution_count": 20,
   "id": "544c21ef-1545-4518-8550-399410008c1f",
   "metadata": {},
   "outputs": [
    {
     "name": "stdout",
     "output_type": "stream",
     "text": [
      "[5 0 3 3 7 9]\n",
      "[[3 5 2 4]\n",
      " [7 6 8 8]\n",
      " [1 6 7 7]]\n",
      "[[[8 1 5 9 8]\n",
      "  [9 4 3 0 3]\n",
      "  [5 0 2 3 8]\n",
      "  [1 3 3 3 7]]\n",
      "\n",
      " [[0 1 9 9 0]\n",
      "  [4 7 3 2 7]\n",
      "  [2 0 0 4 5]\n",
      "  [5 6 8 4 1]]\n",
      "\n",
      " [[4 9 8 1 1]\n",
      "  [7 9 9 3 6]\n",
      "  [7 2 0 3 5]\n",
      "  [9 4 4 6 4]]]\n"
     ]
    }
   ],
   "source": [
    "#(random number generator\n",
    "\n",
    "np.random.seed(0)\n",
    "arr1 = np.random.randint(10 , size=6)\n",
    "print(arr1)\n",
    "arr2 = np.random.randint(10 , size=(3,4))\n",
    "print(arr2)\n",
    "arr3= np.random.randint(10 , size=(3,4,5))\n",
    "print(arr3)"
   ]
  },
  {
   "cell_type": "code",
   "execution_count": 27,
   "id": "0336b05a-1b76-49c6-bc75-e1e12afaf0c1",
   "metadata": {},
   "outputs": [
    {
     "name": "stdout",
     "output_type": "stream",
     "text": [
      "[[3 5 2 4]\n",
      " [7 6 8 8]\n",
      " [1 6 7 7]]\n",
      "arr2.ndim = 2\n",
      "arr2.shape = (3, 4)\n",
      "arr2.size = 12\n",
      "arr2.dtype = int32\n",
      "arr2.itemsize = 4\n",
      "arr2.nbytes = 48\n"
     ]
    }
   ],
   "source": [
    "#  Attributes\n",
    "print(arr2)\n",
    "\n",
    "print(\"arr2.ndim =\",arr2.ndim)\n",
    "print(\"arr2.shape =\",arr2.shape) # 중요\n",
    "print(\"arr2.size =\",arr2.size) # 중요\n",
    "\n",
    "print(\"arr2.dtype =\",arr2.dtype) # 중요\n",
    "print(\"arr2.itemsize =\",arr2.itemsize)\n",
    "print(\"arr2.nbytes =\",arr2.nbytes)"
   ]
  },
  {
   "cell_type": "code",
   "execution_count": 28,
   "id": "528d6f94-1719-49a1-8cc0-3fd2dd472db6",
   "metadata": {},
   "outputs": [],
   "source": [
    "# Array Slicing\n"
   ]
  },
  {
   "cell_type": "code",
   "execution_count": 31,
   "id": "11b2f5a8-9bbc-44e2-8932-84017e9e8e66",
   "metadata": {},
   "outputs": [
    {
     "name": "stdout",
     "output_type": "stream",
     "text": [
      "[[5 0 3 3 7 9 3 5]\n",
      " [2 4 7 6 8 8 1 6]\n",
      " [7 7 8 1 5 9 8 9]\n",
      " [4 3 0 3 5 0 2 3]\n",
      " [8 1 3 3 3 7 0 1]\n",
      " [9 9 0 4 7 3 2 7]]\n",
      "[[5 0 2]\n",
      " [3 7 0]]\n"
     ]
    }
   ],
   "source": [
    "# Multi-dimensional Subarrays\n",
    "\n",
    "np.random.seed(0)\n",
    "arr=np.random.randint(10, size=(6,8))\n",
    "print(arr)\n",
    "\n",
    "arr_sub = arr[3:5, 4:7]\n",
    "print(arr_sub)"
   ]
  },
  {
   "cell_type": "code",
   "execution_count": 32,
   "id": "50f868ae-7a34-4e2b-b3d8-fb329f5f9fd6",
   "metadata": {},
   "outputs": [],
   "source": [
    "# Subarrays as Views\n"
   ]
  },
  {
   "cell_type": "code",
   "execution_count": 36,
   "id": "dc991670-5243-46ac-b418-2aa7dc6b5143",
   "metadata": {},
   "outputs": [
    {
     "name": "stdout",
     "output_type": "stream",
     "text": [
      "[1 2 3]\n",
      "arr.ndim = 1\n",
      "arr.shape = (3,)\n",
      "[[1 2 3]]\n",
      "arr_new.ndim = 2\n",
      "arr_new.shape = (1, 3)\n"
     ]
    }
   ],
   "source": [
    "#np.newaxis\n",
    "\n",
    "arr = np.array([1,2,3])\n",
    "print(arr)\n",
    "print(\"arr.ndim =\",arr.ndim)\n",
    "print(\"arr.shape =\",arr.shape)\n",
    "\n",
    "arr_new = arr[np.newaxis, :]\n",
    "print(arr_new)\n",
    "print(\"arr_new.ndim =\",arr_new.ndim)\n",
    "print(\"arr_new.shape =\",arr_new.shape)"
   ]
  },
  {
   "cell_type": "code",
   "execution_count": 45,
   "id": "72ee7380-ee0e-45e5-a480-0490c47ec9bf",
   "metadata": {},
   "outputs": [
    {
     "name": "stdout",
     "output_type": "stream",
     "text": [
      "[1 2 3 4 5 6 7 8 9] \n",
      "\n",
      "[[1 2 3]\n",
      " [4 5 6]\n",
      " [7 8 9]] \n",
      "\n",
      "[1 2 3 4 5 6 7 8 9] \n",
      "\n"
     ]
    }
   ],
   "source": [
    "#Array Concatenation\n",
    "\n",
    "arr_1=np.array([1,2,3])\n",
    "arr_2=np.array([4,5,6])\n",
    "arr_3=np.array([7,8,9])\n",
    "\n",
    "arr_total = np.concatenate([arr_1, arr_2, arr_3])\n",
    "print(arr_total, '\\n')\n",
    "\n",
    "arr_total = np.vstack([arr_1, arr_2 , arr_3])\n",
    "print(arr_total, '\\n')\n",
    "\n",
    "arr_total = np.hstack([arr_1, arr_2 , arr_3])\n",
    "print(arr_total, '\\n')"
   ]
  },
  {
   "cell_type": "code",
   "execution_count": 47,
   "id": "73702c31-7612-448d-b119-037419bb132b",
   "metadata": {},
   "outputs": [
    {
     "name": "stdout",
     "output_type": "stream",
     "text": [
      "[1, 2, 3, 99, 98, 3, 2, 1] \n",
      "\n",
      "[1 2 3]\n",
      "[99 98]\n",
      "[3 2 1]\n"
     ]
    }
   ],
   "source": [
    "# Array Splitting\n",
    "\n",
    "arr = [1,2,3,99,98,3,2,1]\n",
    "print(arr,'\\n')\n",
    "\n",
    "arr_1,arr_2,arr_3 = np.split(arr, [3,5])\n",
    "print(arr_1)\n",
    "print(arr_2)\n",
    "print(arr_3)\n"
   ]
  }
 ],
 "metadata": {
  "kernelspec": {
   "display_name": "Python 3",
   "language": "python",
   "name": "python3"
  },
  "language_info": {
   "codemirror_mode": {
    "name": "ipython",
    "version": 3
   },
   "file_extension": ".py",
   "mimetype": "text/x-python",
   "name": "python",
   "nbconvert_exporter": "python",
   "pygments_lexer": "ipython3",
   "version": "3.8.8"
  }
 },
 "nbformat": 4,
 "nbformat_minor": 5
}
