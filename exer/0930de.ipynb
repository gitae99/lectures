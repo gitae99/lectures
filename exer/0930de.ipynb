{
 "cells": [
  {
   "cell_type": "code",
   "execution_count": 2,
   "id": "e4215d4a-5c7b-482d-a9a8-7dc267f1326b",
   "metadata": {},
   "outputs": [],
   "source": [
    "import numpy as np"
   ]
  },
  {
   "cell_type": "code",
   "execution_count": 5,
   "id": "4ca95314-ffd9-401e-9013-d428620f1818",
   "metadata": {},
   "outputs": [
    {
     "name": "stdout",
     "output_type": "stream",
     "text": [
      "[25, 20, 35, 15, 15, 30, 45, 30]\n",
      "[25 20 35 15 15 30 45 30]\n"
     ]
    }
   ],
   "source": [
    "prices=[30,25,40,20,20,35,50,35]\n",
    "new_prices=[price-5 for price in prices]\n",
    "print(new_prices)\n",
    "\n",
    "prices_arr=np.array(prices)\n",
    "prices_arr -=5\n",
    "print(prices_arr)"
   ]
  },
  {
   "cell_type": "code",
   "execution_count": 21,
   "id": "3a926e51-d953-4139-9c8a-7a2a70c7d9ee",
   "metadata": {},
   "outputs": [
    {
     "name": "stdout",
     "output_type": "stream",
     "text": [
      "[89 87 74 92 94]\n",
      "[258 279 246 274 270]\n",
      "[86.         93.         82.         91.33333333 90.        ]\n",
      "93\n",
      "[94 88]\n",
      "[[ 92  94  88  91  87]\n",
      " [ 79 100  86  93  91]\n",
      " [ 87  85  72  90  92]]\n",
      "87\n",
      "[87 91 92]\n"
     ]
    }
   ],
   "source": [
    "test_1=np.array([92,94,88,91,87])\n",
    "test_2=np.array([79,100,86,93,91])\n",
    "test_3=np.array([87,85,72,90,92])\n",
    "\n",
    "test_3_fixed=test_3+2\n",
    "print(test_3_fixed)\n",
    "\n",
    "total_grade=test_1+test_2+test_3\n",
    "print(total_grade)\n",
    "\n",
    "final_grade= total_grade / 3\n",
    "print(final_grade)\n",
    "\n",
    "jeremy_test_2=test_2[3]\n",
    "print(jeremy_test_2)\n",
    "manual_adwoa_test_1=np.array([test_1[1] , test_1[2]])\n",
    "print(manual_adwoa_test_1)\n",
    "\n",
    "student_scores = np.array([test_1, test_2 , test_3])\n",
    "print(student_scores) \n",
    "\n",
    "print(student_scores[2,0])\n",
    "\n",
    "print(student_scores[:,4]) # :는 모든 행 \n",
    "\n"
   ]
  },
  {
   "cell_type": "code",
   "execution_count": 28,
   "id": "f05458a9-edd0-4dd7-9909-dbc7727c3dce",
   "metadata": {},
   "outputs": [
    {
     "name": "stdout",
     "output_type": "stream",
     "text": [
      "[ True False False False False False  True  True  True  True]\n",
      "[10  9  8  9  7]\n",
      "[10  2  2  3  9  8  9  7]\n",
      "[5 7]\n"
     ]
    }
   ],
   "source": [
    "\"\"\"\n",
    "Logical Operations with Arrays\n",
    "\"\"\"\n",
    "\n",
    "a = np.array([10, 2, 2, 4, 5, 3, 9, 8, 9, 7])\n",
    "mask = a > 5\n",
    "print(mask)\n",
    "\n",
    "# select\n",
    "selected = a[a > 5]\n",
    "print(selected)\n",
    "\n",
    "#combined\n",
    "selected= a[(a > 6) | (a <4 )]\n",
    "print(selected)\n",
    "\n",
    "selected= a[(a > 4) & (a < 8 )]\n",
    "print(selected)   #이 문법은 자주 사용할 것이니 중요함\n",
    "\n"
   ]
  },
  {
   "cell_type": "code",
   "execution_count": 34,
   "id": "3988b7e9-c204-4214-97e4-5db23f8966b8",
   "metadata": {},
   "outputs": [
    {
     "name": "stdout",
     "output_type": "stream",
     "text": [
      "[79 65 50 63 56 90 85 98 79 51]\n",
      "[50 56 51]\n",
      "[90 85 98]\n",
      "[79 65 63 79]\n"
     ]
    }
   ],
   "source": [
    "\"\"\"\n",
    "Exercise: Goldilocks Porridge Festival\n",
    "\"\"\"\n",
    "\n",
    "porridge = np.array([79, 65, 50, 63, 56, 90, 85, 98, 79, 51])\n",
    "print(porridge)\n",
    "\n",
    "cold=porridge[porridge<60]\n",
    "print(cold)\n",
    "\n",
    "hot=porridge[porridge>80]\n",
    "print(hot)\n",
    "\n",
    "just_right=porridge[(porridge>60) & (porridge<80)]\n",
    "print(just_right)"
   ]
  }
 ],
 "metadata": {
  "kernelspec": {
   "display_name": "Python 3",
   "language": "python",
   "name": "python3"
  },
  "language_info": {
   "codemirror_mode": {
    "name": "ipython",
    "version": 3
   },
   "file_extension": ".py",
   "mimetype": "text/x-python",
   "name": "python",
   "nbconvert_exporter": "python",
   "pygments_lexer": "ipython3",
   "version": "3.8.8"
  }
 },
 "nbformat": 4,
 "nbformat_minor": 5
}
