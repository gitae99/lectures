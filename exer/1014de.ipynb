{
 "cells": [
  {
   "cell_type": "code",
   "execution_count": 2,
   "id": "502ff361-ef79-40f4-bb01-618953ce93f5",
   "metadata": {},
   "outputs": [],
   "source": [
    "import pandas as pd\n",
    "import numpy as np"
   ]
  },
  {
   "cell_type": "code",
   "execution_count": 4,
   "id": "a38c6f48-8e30-415e-8c44-6964df194c59",
   "metadata": {},
   "outputs": [
    {
     "data": {
      "text/plain": [
       "'1.2.4'"
      ]
     },
     "execution_count": 4,
     "metadata": {},
     "output_type": "execute_result"
    }
   ],
   "source": [
    "pd.__version__"
   ]
  },
  {
   "cell_type": "code",
   "execution_count": 6,
   "id": "34a4e9b4-8714-4303-b3c2-b3c5e71ebc18",
   "metadata": {},
   "outputs": [
    {
     "name": "stdout",
     "output_type": "stream",
     "text": [
      "0    0.25\n",
      "1    0.50\n",
      "2    0.75\n",
      "3    1.00\n",
      "dtype: float64\n"
     ]
    }
   ],
   "source": [
    "\"\"\"\n",
    "Pandas Objects: Series\n",
    "\"\"\"\n",
    "\n",
    "ser = pd.Series([0.25,0.5,0.75,1.0]) #constructor method 라서 S가 대분자\n",
    "print(ser) #왼쪽은 정수형 인덱스 오른쪽은 입력된 값\n"
   ]
  },
  {
   "cell_type": "code",
   "execution_count": 11,
   "id": "59c013f7-8c6f-4bda-8faf-d495bdfff249",
   "metadata": {},
   "outputs": [
    {
     "name": "stdout",
     "output_type": "stream",
     "text": [
      "[0.25 0.5  0.75 1.  ]\n",
      "RangeIndex(start=0, stop=4, step=1)\n"
     ]
    }
   ],
   "source": [
    "arr = ser.values\n",
    "print(arr)\n",
    "ind = ser.index\n",
    "print(ind)"
   ]
  },
  {
   "cell_type": "code",
   "execution_count": 15,
   "id": "d6b8e10f-e488-46b0-bd86-8ca216f5a728",
   "metadata": {},
   "outputs": [
    {
     "name": "stdout",
     "output_type": "stream",
     "text": [
      "a    0.25\n",
      "b    0.50\n",
      "c    0.75\n",
      "d    1.00\n",
      "dtype: float64\n",
      "0.5\n"
     ]
    }
   ],
   "source": [
    "# Label-based Indexing\n",
    "ser = pd.Series([0.25 , 0.5 , 0.75 , 1.0], index = ['a','b','c','d'])\n",
    "print(ser)\n",
    "\n",
    "print(ser['b'])"
   ]
  },
  {
   "cell_type": "code",
   "execution_count": 21,
   "id": "ce8bc21e-2057-4b83-bc8c-29d4f0efffd2",
   "metadata": {},
   "outputs": [
    {
     "name": "stdout",
     "output_type": "stream",
     "text": [
      "California    38332521\n",
      "Texas         26448193\n",
      "New York      19651127\n",
      "Florida       19552860\n",
      "Illinois      12882135\n",
      "dtype: int64\n",
      "California    38332521\n",
      "Texas         26448193\n",
      "New York      19651127\n",
      "dtype: int64\n"
     ]
    }
   ],
   "source": [
    "\"\"\"\n",
    "Creating a Series Object from a Dictionary\n",
    "\"\"\"\n",
    "\n",
    "\n",
    "population_dict = {'California': 38332521,\n",
    "                    'Texas': 26448193,\n",
    "                    \"New York\": 19651127,\n",
    "                    'Florida': 19552860,\n",
    "                    'Illinois': 12882135}\n",
    "population = pd.Series(population_dict)\n",
    "print(population)\n",
    "\n",
    "print(population['California' : 'New York']) #슬라이스"
   ]
  },
  {
   "cell_type": "code",
   "execution_count": 23,
   "id": "75da9b50-0ffc-4a64-881e-34dff0165673",
   "metadata": {},
   "outputs": [
    {
     "name": "stdout",
     "output_type": "stream",
     "text": [
      "California    423967\n",
      "Texas         695662\n",
      "New York      141297\n",
      "Florida       170312\n",
      "Illinois      149995\n",
      "dtype: int64\n"
     ]
    }
   ],
   "source": [
    "\"\"\"\n",
    "Creating a DataFrame Object\n",
    "\"\"\"\n",
    "\n",
    "area_dict = {'California': 423967,'Texas': 695662, 'New York': 141297,\n",
    "'Florida': 170312, 'Illinois': 149995}\n",
    "\n",
    "area = pd.Series(area_dict)\n",
    "print(area)"
   ]
  },
  {
   "cell_type": "code",
   "execution_count": 30,
   "id": "848b60ab-ab43-4e63-8215-e9f5f1361e02",
   "metadata": {},
   "outputs": [
    {
     "name": "stdout",
     "output_type": "stream",
     "text": [
      "            population    area\n",
      "California    38332521  423967\n",
      "Texas         26448193  695662\n",
      "New York      19651127  141297\n",
      "Florida       19552860  170312\n",
      "Illinois      12882135  149995\n",
      "Index(['California', 'Texas', 'New York', 'Florida', 'Illinois'], dtype='object') \n",
      "\n",
      "Index(['population', 'area'], dtype='object')\n"
     ]
    }
   ],
   "source": [
    "states = pd.DataFrame({'population': population, 'area': area})\n",
    "print(states)\n",
    "\n",
    "print(states.index, '\\n')\n",
    "print(states.columns)"
   ]
  },
  {
   "cell_type": "code",
   "execution_count": 32,
   "id": "9e0a349b-7a86-46e3-a665-99a199b3c6fd",
   "metadata": {},
   "outputs": [
    {
     "name": "stdout",
     "output_type": "stream",
     "text": [
      "California    423967\n",
      "Texas         695662\n",
      "New York      141297\n",
      "Florida       170312\n",
      "Illinois      149995\n",
      "Name: area, dtype: int64\n"
     ]
    }
   ],
   "source": [
    "print(states['area'])"
   ]
  },
  {
   "cell_type": "code",
   "execution_count": 45,
   "id": "4e19c8cd-be91-4c72-b002-8119842390c0",
   "metadata": {},
   "outputs": [
    {
     "name": "stdout",
     "output_type": "stream",
     "text": [
      "[[0.79864951 0.88845998]\n",
      " [0.25138431 0.74799427]\n",
      " [0.78631629 0.53528041]] \n",
      "\n",
      "        foo       bar\n",
      "a  0.798650  0.888460\n",
      "b  0.251384  0.747994\n",
      "c  0.786316  0.535280\n"
     ]
    }
   ],
   "source": [
    "arr = np.random.rand(3,2)\n",
    "print(arr , '\\n')\n",
    "\n",
    "df = pd.DataFrame(arr , columns = ['foo', 'bar'], index = ['a','b','c'])\n",
    "print(df)"
   ]
  },
  {
   "cell_type": "code",
   "execution_count": 46,
   "id": "c0684589-7e12-48ea-a1bb-77c88870a02e",
   "metadata": {},
   "outputs": [
    {
     "name": "stdout",
     "output_type": "stream",
     "text": [
      "a    0.25\n",
      "b    0.50\n",
      "c    0.75\n",
      "d    1.00\n",
      "dtype: float64 \\m\n",
      "0.25\n"
     ]
    }
   ],
   "source": [
    "ser = pd.Series([0.25 , 0.5 , 0.75 , 1.0] , index = ['a','b','c','d'])\n",
    "print(ser , '\\m')\n",
    "print(ser[0])"
   ]
  }
 ],
 "metadata": {
  "kernelspec": {
   "display_name": "Python 3",
   "language": "python",
   "name": "python3"
  },
  "language_info": {
   "codemirror_mode": {
    "name": "ipython",
    "version": 3
   },
   "file_extension": ".py",
   "mimetype": "text/x-python",
   "name": "python",
   "nbconvert_exporter": "python",
   "pygments_lexer": "ipython3",
   "version": "3.8.8"
  }
 },
 "nbformat": 4,
 "nbformat_minor": 5
}
