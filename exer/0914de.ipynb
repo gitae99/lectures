{
 "cells": [
  {
   "cell_type": "code",
   "execution_count": 2,
   "id": "e1fa103c-e0ab-4260-883e-f0f9b215fa57",
   "metadata": {},
   "outputs": [
    {
     "name": "stdout",
     "output_type": "stream",
     "text": [
      "Hello World\n",
      "100\n",
      "3.141592\n",
      " My name is Gi tae Lee!!\n"
     ]
    }
   ],
   "source": [
    "\"\"\"\n",
    "print(\"안녕하세요\")\n",
    "\"\"\"\n",
    "\n",
    "print(\"Hello World\")\n",
    "print(100)\n",
    "pi= 3.141592\n",
    "print(pi)\n",
    "\n",
    "intro=\" My name is\"\n",
    "name=\" Gi tae Lee\"\n",
    "print(intro + name + \"!!\")"
   ]
  },
  {
   "cell_type": "code",
   "execution_count": 3,
   "id": "da7b31c6-f767-4b2a-ac2f-2f4920d25e1c",
   "metadata": {},
   "outputs": [
    {
     "name": "stdout",
     "output_type": "stream",
     "text": [
      "Gi Tae Lee\n",
      "Man\n",
      "67\n"
     ]
    }
   ],
   "source": [
    "\"\"\"\n",
    "Variables\n",
    "\"\"\"\n",
    "# 나를 표현할 수 있는 정보 세 가지 이상을 변수로 선언하시오.\n",
    "user_name=\"Gi Tae Lee\"\n",
    "user_sex=\"Man\"\n",
    "user_weight=67\n",
    "print(user_name)\n",
    "print(user_sex)\n",
    "print(user_weight)\n"
   ]
  },
  {
   "cell_type": "code",
   "execution_count": 4,
   "id": "aa227cad-b0f4-4b95-9989-6572236c7db6",
   "metadata": {},
   "outputs": [
    {
     "name": "stdout",
     "output_type": "stream",
     "text": [
      "3\n",
      "1\n",
      "6\n"
     ]
    }
   ],
   "source": [
    "\"\"\"\n",
    "Data Types : Integers\n",
    "\"\"\"\n",
    "\n",
    "# 집에 있는 세 가지 이상의 사물의 갯수를 정수 변수로 표현하시오.\n",
    "\n",
    "Bed = 3\n",
    "Table = 1\n",
    "Window = 6\n",
    "print(Bed)\n",
    "print(Table)\n",
    "print(Window)"
   ]
  },
  {
   "cell_type": "code",
   "execution_count": 1,
   "id": "440422d8-7675-4dfe-969a-fecfad2138b3",
   "metadata": {},
   "outputs": [
    {
     "name": "stdout",
     "output_type": "stream",
     "text": [
      "3.141592\n",
      "67.8\n",
      "174.5\n"
     ]
    }
   ],
   "source": [
    "\"\"\"\n",
    "Data Types : Real Numbers\n",
    "\"\"\"\n",
    "\n",
    "# 본인이 알고있는 세 개의 실수를 변수로 정의하십시오.\n",
    "\n",
    "PI = 3.141592\n",
    "My_Weight = 67.8\n",
    "My_stature = 174.5\n",
    "print(PI)\n",
    "print(My_Weight)\n",
    "print(My_stature)\n"
   ]
  }
 ],
 "metadata": {
  "kernelspec": {
   "display_name": "Python 3",
   "language": "python",
   "name": "python3"
  },
  "language_info": {
   "codemirror_mode": {
    "name": "ipython",
    "version": 3
   },
   "file_extension": ".py",
   "mimetype": "text/x-python",
   "name": "python",
   "nbconvert_exporter": "python",
   "pygments_lexer": "ipython3",
   "version": "3.8.8"
  }
 },
 "nbformat": 4,
 "nbformat_minor": 5
}
