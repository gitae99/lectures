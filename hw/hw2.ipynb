{
 "cells": [
  {
   "cell_type": "code",
   "execution_count": 38,
   "id": "e74af2ed-714f-4860-8979-d7c53f0b5b1d",
   "metadata": {},
   "outputs": [
    {
     "name": "stdout",
     "output_type": "stream",
     "text": [
      "[['physics', 98], ['calculus', 97], ['poetry', 85], ['history', 88]]\n",
      "[['physics', 98], ['calculus', 97], ['poetry', 85], ['history', 88], ['computer science', 100], ['visual arts', 93]]\n",
      "[['physics', 98], ['calculus', 97], ['poetry', 'Pass'], ['history', 88], ['computer science', 100], ['visual arts', 93]]\n",
      "[['politics', 80], ['latin', 96], ['dance', 97], ['architecture', 65]]\n",
      "[['politics', 80], ['latin', 96], ['dance', 97], ['architecture', 65], ['physics', 98], ['calculus', 97], ['poetry', 'Pass'], ['history', 88], ['computer science', 100], ['visual arts', 93]]\n"
     ]
    }
   ],
   "source": [
    "import numpy as np\n",
    "subjects=[\"physics\",\"calculus\",\"poetry\",\"history\"] #1번\n",
    "grades=[98,97,85,88] #2번\n",
    "\n",
    "gradebook=[[subjects[0],grades[0]],[subjects[1],grades[1]],[subjects[2],grades[2]],\n",
    "          [subjects[3],grades[3]]]\n",
    "print(gradebook)\n",
    "\n",
    "gradebook.append([\"computer science\",100])\n",
    "\n",
    "gradebook.append([\"visual arts\",93])\n",
    "\n",
    "print(gradebook)\n",
    "\n",
    "\n",
    "gradebook[2].remove(85)\n",
    "\n",
    "gradebook[2].append(\"Pass\")\n",
    "\n",
    "print(gradebook)\n",
    "\n",
    "last_semester_gradebook = [[\"politics\",80],[\"latin\",96],[\"dance\",97],[\"architecture\",65]]\n",
    "print(last_semester_gradebook)\n",
    "\n",
    "full_gradebook=last_semester_gradebook + gradebook\n",
    "print(full_gradebook)\n",
    "\n"
   ]
  }
 ],
 "metadata": {
  "kernelspec": {
   "display_name": "Python 3",
   "language": "python",
   "name": "python3"
  },
  "language_info": {
   "codemirror_mode": {
    "name": "ipython",
    "version": 3
   },
   "file_extension": ".py",
   "mimetype": "text/x-python",
   "name": "python",
   "nbconvert_exporter": "python",
   "pygments_lexer": "ipython3",
   "version": "3.8.8"
  }
 },
 "nbformat": 4,
 "nbformat_minor": 5
}
