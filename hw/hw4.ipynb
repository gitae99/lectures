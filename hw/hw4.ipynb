{
 "cells": [
  {
   "cell_type": "code",
   "execution_count": 13,
   "id": "7770d496-5ba7-4d13-952b-17fadd4b1044",
   "metadata": {},
   "outputs": [
    {
     "name": "stdout",
     "output_type": "stream",
     "text": [
      "당신의 조선시대 이름은 이칠돌 입니다.\n"
     ]
    }
   ],
   "source": [
    "def get_my_chosun_name(family_name , month , day):\n",
    "    birth_month = ['쌍', '쇠', '복', '돌', '팽', '육', '쌍', '개', '칠', '갑', '삼', '방']\n",
    "    birth_day = ['봉', '구', '욕', '포', '똥', '삼', '식', '석', '놈',  '님', '년', '돌',\n",
    "           '단', '득', '방', '질', '장', '걸','래', '룡', '동', '순', '자', '박',\n",
    "           '창', '언', '것',  '포', '만', '단', '국']\n",
    "    print(\"당신의 조선시대 이름은 %s%s%s 입니다.\" %  (family_name , birth_month[month-1] , birth_day[day-1]))\n",
    "    \n",
    "get_my_chosun_name('이',9,12)"
   ]
  }
 ],
 "metadata": {
  "kernelspec": {
   "display_name": "Python 3",
   "language": "python",
   "name": "python3"
  },
  "language_info": {
   "codemirror_mode": {
    "name": "ipython",
    "version": 3
   },
   "file_extension": ".py",
   "mimetype": "text/x-python",
   "name": "python",
   "nbconvert_exporter": "python",
   "pygments_lexer": "ipython3",
   "version": "3.8.8"
  }
 },
 "nbformat": 4,
 "nbformat_minor": 5
}
